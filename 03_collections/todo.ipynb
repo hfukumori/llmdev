{
 "cells": [
  {
   "cell_type": "code",
   "execution_count": 15,
   "id": "1a603969",
   "metadata": {},
   "outputs": [
    {
     "name": "stdout",
     "output_type": "stream",
     "text": [
      "1: 1\n",
      "2: 2\n",
      "3: 3\n",
      "4: 4\n",
      "TODOリストを保存して終了します。\n"
     ]
    }
   ],
   "source": [
    "import os\n",
    "if os.path.exists(\"todo_list.txt\"):\n",
    "    with open(\"todo_list.txt\", \"r\", encoding=\"utf-8\") as file:\n",
    "        todo_list = [line.strip() for line in file]\n",
    "else:\n",
    "    todo_list = []\n",
    "\n",
    "while True:\n",
    "    action = input(\"番号を入力してください[1: 追加, 2: 表示, 4: 保存と終了]\")\n",
    "    match action:\n",
    "        case \"1\":\n",
    "            item = input(\"追加するTODO:\")\n",
    "            todo_list.append(f\"{item}\")\n",
    "        case \"2\":\n",
    "            for i, item in enumerate(todo_list, start=1):\n",
    "                print(f\"{i}: {item}\")\n",
    "        case \"4\":\n",
    "            print(\"TODOリストを保存して終了します。\")\n",
    "            with open(\"todo_list.txt\", \"w\", encoding=\"utf-8\") as file:\n",
    "                file.writelines([f\"{item}\\n\" for item in todo_list])\n",
    "            break"
   ]
  }
 ],
 "metadata": {
  "kernelspec": {
   "display_name": ".venv",
   "language": "python",
   "name": "python3"
  },
  "language_info": {
   "codemirror_mode": {
    "name": "ipython",
    "version": 3
   },
   "file_extension": ".py",
   "mimetype": "text/x-python",
   "name": "python",
   "nbconvert_exporter": "python",
   "pygments_lexer": "ipython3",
   "version": "3.12.11"
  }
 },
 "nbformat": 4,
 "nbformat_minor": 5
}
