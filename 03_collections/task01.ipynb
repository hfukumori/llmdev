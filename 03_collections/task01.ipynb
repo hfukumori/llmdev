{
 "cells": [
  {
   "cell_type": "code",
   "execution_count": 11,
   "id": "9c2cb03b",
   "metadata": {},
   "outputs": [
    {
     "name": "stdout",
     "output_type": "stream",
     "text": [
      "平均点:80.0\n",
      "最高点:90\n",
      "最低点:70\n",
      "平均以上の学生数:3人\n"
     ]
    }
   ],
   "source": [
    "grades = [70, 75, 80, 85, 90]\n",
    "grade_sum = 0\n",
    "grade_max = 0\n",
    "grade_min = 100\n",
    "for g in grades:\n",
    "    grade_sum += g\n",
    "    if g > grade_max:\n",
    "        grade_max = g\n",
    "    if g < grade_min:\n",
    "        grade_min = g\n",
    "avg = grade_sum / len(grades)\n",
    "above_avg_count = len([g for g in grades if g >= avg])\n",
    "print(f\"平均点:{avg:.1f}\")\n",
    "print(f\"最高点:{grade_max}\")\n",
    "print(f\"最低点:{grade_min}\")\n",
    "print(f\"平均以上の学生数:{above_avg_count}人\")"
   ]
  }
 ],
 "metadata": {
  "kernelspec": {
   "display_name": ".venv",
   "language": "python",
   "name": "python3"
  },
  "language_info": {
   "codemirror_mode": {
    "name": "ipython",
    "version": 3
   },
   "file_extension": ".py",
   "mimetype": "text/x-python",
   "name": "python",
   "nbconvert_exporter": "python",
   "pygments_lexer": "ipython3",
   "version": "3.12.11"
  }
 },
 "nbformat": 4,
 "nbformat_minor": 5
}
