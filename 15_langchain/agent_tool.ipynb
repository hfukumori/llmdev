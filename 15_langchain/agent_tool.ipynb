{
 "cells": [
  {
   "cell_type": "code",
   "execution_count": 1,
   "id": "65ab5f1c",
   "metadata": {},
   "outputs": [],
   "source": [
    "# 必要なモジュールをインポート\n",
    "import os\n",
    "from dotenv import load_dotenv\n",
    "from langchain_openai import ChatOpenAI\n",
    "\n",
    "# 環境変数の読み込み\n",
    "load_dotenv(\"../.env\")\n",
    "os.environ['OPENAI_API_KEY'] = os.environ['API_KEY']\n",
    "\n",
    "# モデル名\n",
    "MODEL_NAME = \"gpt-4o-mini\""
   ]
  },
  {
   "cell_type": "code",
   "execution_count": 2,
   "id": "4d2ec90b",
   "metadata": {},
   "outputs": [],
   "source": [
    "# 検索ツールの定義\n",
    "from langchain_community.tools.tavily_search import TavilySearchResults\n",
    "\n",
    "tool = TavilySearchResults(max_results=2)\n",
    "tools = [tool]"
   ]
  },
  {
   "cell_type": "code",
   "execution_count": 3,
   "id": "6dd11902",
   "metadata": {},
   "outputs": [
    {
     "data": {
      "text/plain": [
       "[{'url': 'https://zenn.dev/pharmax/articles/8796b892eed183',\n",
       "  'content': 'Nodeは、Graph上で実際のステップを実行するコンポーネントです。例えば実際にLangChainを使用してLLMのモデルを呼び出す処理は、Node上で行います。\\n\\nNodeでは、`(State、Config) -> 変更するState`というシグネチャを持つ関数を使うことができます。 [...] | コンポーネント | 説明 |\\n| --- | --- |\\n| Graph | LangGraphの中核となる構成要素で、各NodeとEdgeの集合体です。 |\\n| State | ノード間の遷移の際に保持される情報で、各ノードが参照および更新します。 |\\n| Node | グラフ内の個々のステップや状態を表す要素で、特定のアクションやチェックポイントとして機能します。 |\\n| Edge | ノード間の接続を表し、遷移の条件やアクションを定義します。条件付きエッジなど、特定のロジックに基づいて遷移を制御できます。 |\\n\\n## Graph\\n\\nGraphは、LangGraphの中核となるグラフ全体を管理するためのコンポーネントです。基本的な使い方としては、`StateGraph`というクラスを使い、後述するStateとセットで初期化します。\\n\\n`StateGraph`\\n\\n（StateGraphの宣言例）'},\n",
       " {'url': 'https://qiita.com/sakuraia/items/27db3f118e0ee41c54c1',\n",
       "  'content': '| 構成要素 | 説明 |\\n| --- | --- |\\n| State | グラフに共通する状態を管理する要素。ワークフローで実行される各Nodeによって更新された値を保存する。 |\\n| Node | 処理を行う要素。Stateから必要な情報を取り出し、処理結果をもとにStateを更新する。 |\\n| Edge | Node間を接続する要素。次に実行するノードを指定する。無条件に遷移するEdgeや条件に基づいて遷移先のNodeを決定する条件付きEdgeが設定できる。 |\\n| Graph | NodeとEdgeで構成されるシステム全体を表す要素。 |\\n\\nグラフ構造のイメージは以下の通りです。  \\nグラフ構造イメージ.png\\n\\nグラフ構造イメージ.png\\n\\n# 2 今回の実施内容\\n\\nLangGraphの基本的な使い方を紹介するために、今回は以下2つのシステムを構築します。 [...] LangGraphは、ワークフローをグラフ構造としてモデル化し、複雑なタスクの自動化、システムの状態管理を支援します。LangGraphはLangChainの一部として提供されています。LangChainのChainsは一方向の処理フローを定義しますが、LangGraphは循環的な処理フローを定義します。LangGraphを活用することでより複雑なシステムに対する処理フローを実現することが可能です。その他のLangGraphの特徴は以下の通りです。\\n\\nLangGraphの主要な構成要素は、State、Node、Edge、Graphの4つがあります。'}]"
      ]
     },
     "execution_count": 3,
     "metadata": {},
     "output_type": "execute_result"
    }
   ],
   "source": [
    "tool.invoke(\"Langgraphのノードとは？\")"
   ]
  },
  {
   "cell_type": "code",
   "execution_count": 4,
   "id": "9f2b97a8",
   "metadata": {},
   "outputs": [
    {
     "data": {
      "text/plain": [
       "<langgraph.graph.state.StateGraph at 0x12a039b20>"
      ]
     },
     "execution_count": 4,
     "metadata": {},
     "output_type": "execute_result"
    }
   ],
   "source": [
    "from typing import Annotated\n",
    "from typing_extensions import TypedDict\n",
    "from langgraph.graph import StateGraph\n",
    "from langgraph.graph.message import add_messages\n",
    "\n",
    "# Stateクラスの定義\n",
    "class State(TypedDict):\n",
    "    messages: Annotated[list, add_messages]\n",
    "\n",
    "# グラフのインスタンスを作成\n",
    "graph_builder = StateGraph(State)\n",
    "\n",
    "# 言語モデルの定義\n",
    "llm = ChatOpenAI(model_name=MODEL_NAME)\n",
    "\n",
    "# 変更点：ツール定義の紐づけ\n",
    "llm_with_tools = llm.bind_tools(tools)\n",
    "\n",
    "# チャットボットノードの作成\n",
    "def chatbot(state: State):\n",
    "    return {\"messages\": [llm_with_tools.invoke(state[\"messages\"])]}\n",
    "\n",
    "# グラフにチャットボットノードを追加\n",
    "graph_builder.add_node(\"chatbot\", chatbot)"
   ]
  },
  {
   "cell_type": "code",
   "execution_count": 5,
   "id": "13aed4ec",
   "metadata": {},
   "outputs": [],
   "source": [
    "from langgraph.prebuilt import ToolNode, tools_condition\n",
    "from langgraph.checkpoint.memory import MemorySaver\n",
    "\n",
    "# ツールノードの作成\n",
    "tool_node = ToolNode(tools)\n",
    "\n",
    "# グラフにツールノードを追加\n",
    "graph_builder.add_node(\"tools\", tool_node)\n",
    "\n",
    "# 条件付エッジの作成\n",
    "graph_builder.add_conditional_edges(\n",
    "    \"chatbot\",\n",
    "    tools_condition, # ツール呼出と判断したらツールノードを呼ぶ\n",
    ")\n",
    "\n",
    "# ツールが呼び出されるたびに、チャットボットに戻って次のステップを決定\n",
    "# ツールからチャットボットへの戻りエッジを作成\n",
    "graph_builder.add_edge(\"tools\", \"chatbot\")\n",
    "\n",
    "# 開始ノードの指定\n",
    "graph_builder.set_entry_point(\"chatbot\")\n",
    "\n",
    "# 記憶を持つ実行可能なステートグラフの作成\n",
    "memory = MemorySaver()\n",
    "graph = graph_builder.compile(checkpointer=memory)"
   ]
  },
  {
   "cell_type": "code",
   "execution_count": 6,
   "id": "84abc025",
   "metadata": {},
   "outputs": [
    {
     "data": {
      "image/png": "[encoded data removed]",
      "text/plain": [
       "<IPython.core.display.Image object>"
      ]
     },
     "metadata": {},
     "output_type": "display_data"
    }
   ],
   "source": [
    "# グラフの可視化\n",
    "from IPython.display import Image, display\n",
    "\n",
    "display(Image(graph.get_graph().draw_mermaid_png()))"
   ]
  },
  {
   "cell_type": "code",
   "execution_count": 8,
   "id": "56a9da1b",
   "metadata": {},
   "outputs": [
    {
     "name": "stdout",
     "output_type": "stream",
     "text": [
      "こんにちは！\n",
      "こんにちは！何かお手伝いできることがあれば教えてくださいね。\n",
      "1足す2は？\n",
      "1足す2は3です。ほかに何か質問がありますか？\n",
      "1メートル以上の魚は？\n",
      "\n",
      "[{\"url\": \"https://tsurihack.com/8448\", \"content\": \"たとえ誰かに釣り場を案内してもらう時であっても、釣りたい魚がどんな環境で暮らしている生き物なのか図鑑や文献などで簡単にでも調べておくと良いですよ。\\n\\n### 諦めずに釣り場に通いましょう\\n\\n釣り\\n\\n釣り\\n\\n魚種やサイズによって大物釣りの難易度は、1日で釣れるものから数年かかるものまで様々です。\\n\\n自分が定めた目標に向かって、釣れない日や掛かってもバラしてしまう日だってあるかもしれませんが、諦めずに釣り場に通ってみましょう。\\n\\n手早く、狙った大物を釣り上げる腕利きの釣り人の方がカッコ良く見えるかもしれませんが、僕はたくさん努力したことで全身が震えるあの感動を味わえている人も素敵だなといつも感じます。\\n\\n## 近所に潜む大物10選＆レア度をご紹介\\n\\n### 大物は意外と身近にもいるんです\\n\\nそれでは、ここからは身近な水辺に生息する大物達を釣り上げる難易度別にご紹介していきます。\\n\\nどの魚も、陸っぱりで狙えて最大全長が1mを超えるものばかり！\\n\\nお住まいの地域にこれからリストアップする魚が生息していたら、狙ってみてはいかがでしょうか。\\n\\n## 鯉｜もっとも手軽で簡単な大物 [...] 怪魚ハンター山根ブラザーズの兄。\\nテレビ東京・緊急SOS池の水全部抜くやNHK・ダーウィンが来た、TBS・VSリアルガチ危険生物などに出演したり、魚類生態調査に参加したりと幅広く活動中。\\n初めての1匹との出会いに最も価値を置き、餌・ルアー・もはや釣りに限らず。ガサガサや漁業者と協力してまでも、まだ見ぬ生き物を追い求め、日々水辺に立っている。\\n\\n目次\\n\\n## 大物を釣る楽しさと魅力を語る\\n\\n### 魚の力強さを体感できる\\n\\n大物釣りの魅力、引きの強さ\\n\\n大物釣りの魅力、引きの強さ\\n\\n大物釣りの魅力のひとつに、魚達の力強さを一本の釣り糸を通して体感できることがあります。\\n\\nとくに1m、10kgを超えるような魚の重量感溢れるファイトで、身体が引っ張られるような感覚を一度味わうと病みつきになってしまいます。\\n\\nもちろん、魚の引きの強度やランディングに至るまでの難易度は魚種によってさまざま。今回の記事では、難易度別に魅力的な大物をご紹介していきます。\\n\\nまずは、僕が思う大物釣りの魅力からお届けします！\\n\\n### 迫力満点な写真が撮れます\\n\\n大物釣りの魅力、写真映えする [...] 身近な大物コイ  \\n難易度：★☆☆｜平均70cm、1m超えれば超絶レア  \\n魚釣り初心者の方にオススメしたいのは食パンを使ったコイ釣りです！\\n\\n身近な大物コイ\\n\\n安・近・短で手軽に釣ることができ、ボウズ（釣果ゼロ）で終わってしまうリスクも少ないのがパンコイゲームの魅力ですね。\\n\\n▼食パンを使ったコイの釣り方はこちら！  \\n\\n針と餌だけのカンタン仕掛けで巨大魚が釣れる！？“パン鯉”に子供と挑戦してみました\\n\\n2023/04/27釣り好き！まっちゃん\\n\\n針と餌だけのカンタン仕掛けで巨大魚が釣れる！？“パン鯉”に子供と挑戦してみました\\n\\n2023/04/27釣り好き！まっちゃん\\n\\n### 1mを超えるコイは超絶レアですよ！\\n\\nメーターオーバーの鯉\\n\\nメーターオーバーの鯉\\n\\n身近な川魚のコイといえども最大サイズは1ｍを優に超え、コイを専門に狙う釣り人にとってメーター超えの巨鯉は一生に1匹でも良いから釣ってみたい憧れのサイズです。\"}, {\"url\": \"https://www.jiji.com/jc/v2?id=super_aquarium\", \"content\": \"時事ドットコム\\n会員限定\\n検索\\nその他\\n\\n時事ドットコムニュース\\n\\n特集\\n\\n特集 巨大魚だらけの水族館\\n\\n特集 巨大魚だらけの水族館\\n\\nX\\nfacebook\\nhatena-bookmark\\n\\n新着\\n\\n時事ドットコム：時事通信社が運営するニュースサイト\\n鈴木貫太郎の最期の言葉◆孫が感じた「決意」とは\\n「石破降ろし」６５％が反対　自民支持層◆時事８月調査\\nネット広告費をだまし取る手口が横行◆その実態と対策は？\\n靖国分祀、今の世代で解決を◇古賀誠・自民党元幹事長\\n巣鴨プリズンを出て首相になった男の「強運」◇塩田潮\\nゲノム編集で絶滅オオカミ「復活」◆３年内に「ケナガマンモスも」\\n「日本人ファースト」の背景に見えたもの◇ＩＣＵ准教授・橋本直子\\n「爆買い」中国人はどこへ◇ブームから１０年、訪日外国人消費の今\\n\\nオリジナル記事 [...] 「米国の恥」「プーチンの勝利」　トランプ大統領に国内で批判―米ロ首脳会談\\n\\n日本人２人、射殺される　比マニラでタクシー降車直後5\\n\\n日本人２人、射殺される　比マニラでタクシー降車直後\\n\\n「ＮＡＴＯ類似」の集団防衛　米欧がウクライナに、ロシア容認―米高官7\\n\\n「ＮＡＴＯ類似」の集団防衛　米欧がウクライナに、ロシア容認―米高官\\n\\n立民代表、解決路線へ傾斜　新興勢力伸長に焦り―実績作り、危ういかじ取り9\\n\\n立民代表、解決路線へ傾斜　新興勢力伸長に焦り―実績作り、危ういかじ取り\\n\\n岩井明が米ツアー初優勝　史上初の双子姉妹Ｖ―米女子ゴルフ\\n\\n岩井明が米ツアー初優勝　史上初の双子姉妹Ｖ―米女子ゴルフ\\n\\n### 人気記事 一覧へ\\n\\n人気記事\\n\\n「害毒全面粛清」\\n\\n「害毒全面粛清」\\n\\n　習主席側近が…\\n\\n富士山の異常事態を\\n\\n富士山の異常事態を\\n\\n考えよう◇野口健\\n\\n消費税は問題あまた\\n\\n消費税は問題あまた\\n\\nなぜアメリカ非難\\n\\n幼児回帰する米国\\n\\n幼児回帰する米国\\n\\n同志社大・浜矩子\\n\\n### 今日は何の日？\\n\\n今日は何の日？\\n\\n「なでしこジャパン」に国民栄誉賞授与 [...] 太い男の思考回路【連載】玉川奈々福\\n衝撃の１０秒００！◆１６歳スプリンター清水空跳\\nレアアース供給、なぜ中国が独占？◆最強のカード\\nセーヌ川を泳いでみた！◆１００年ぶり遊泳解禁\\n「老舗革新政党」の悲哀◆共産・社民\\n西岡沙樹（ピアノ）他◆今月のクラシック\\n高校で調理師免許、服飾、保育◆佐賀県立牛津高校\\n【戦後８０年】丸木夫妻が描き続けた意味\\n\\nプロが読む株価の行方\\n\\n私の相場観\\n\\n【更新】第７回のクイズはこちら\\n\\n時事トレンドクイズ\\n\\nトランプ米新政権　最新ニュース\\n\\nトランプ米新政権　最新ニュース\\n\\n### ピックアップ\\n\\nピックアップ\\n\\nトランプ氏国内で批判\\n追い込まれ出場辞退\\n百条委員会に出頭\\n公選法違反疑いで聴取\\nりくりゅう今季初戦\\n釜本さん死去８１歳\\n出禁の女人事動かす\\n最悪の渋滞なぜ起きた\\nアキュラの新ＥＶ\\n菅野、制球さえ１０勝\\n「映える」中国で物議\\nくすぶる執行部刷新論\\nX\\n\\n### アクセスランキング 総合 一覧へ\\n\\nアクセスランキング 総合\\n\\n「米国の恥」「プーチンの勝利」　トランプ大統領に国内で批判―米ロ首脳会談92\"}]\n",
      "1メートル以上の魚についての情報をいくつか見つけました。\n",
      "\n",
      "1. **コイ** - 身近な大物として知られ、最大サイズは1メートルを超えることがあります。特にメーターオーバーのコイは非常に珍しく、釣り人にとっては憧れのサイズです。コイ釣りは初心者にもおすすめで、食パンを餌にする方法もあります。\n",
      "\n",
      "2. **その他の魚** - 記事では、他にも1メートルを超える魚がいくつか紹介されているとのことです。具体的には、さまざまな水域に生息する魚の中には、1メートル以上に成長するものも多いです。\n",
      "\n",
      "詳細を知りたい方は、こちらの記事を参考にしてください: [1メートル以上の魚について](https://tsurihack.com/8448)。\n",
      "\n",
      "他に何か知りたいことがあれば教えてください！\n",
      "ありがとうございました!\n"
     ]
    }
   ],
   "source": [
    "# グラフの実行と結果の表示\n",
    "def stream_graph_updates(user_input: str):\n",
    "    events = graph.stream(\n",
    "        {\"messages\": [(\"user\", user_input)]},\n",
    "        {\"configurable\": {\"thread_id\": \"1\"}},\n",
    "        stream_mode=\"values\")\n",
    "    # 結果をストリーミングで得る\n",
    "    for event in events:\n",
    "        print(event[\"messages\"][-1].content, flush=True)\n",
    "\n",
    "# チャットボットのループ\n",
    "while True:\n",
    "    user_input = input(\"質問:\")\n",
    "    if user_input.strip()==\"\":\n",
    "        print(\"ありがとうございました!\")\n",
    "        break\n",
    "    stream_graph_updates(user_input)"
   ]
  }
 ],
 "metadata": {
  "kernelspec": {
   "display_name": ".venv",
   "language": "python",
   "name": "python3"
  },
  "language_info": {
   "codemirror_mode": {
    "name": "ipython",
    "version": 3
   },
   "file_extension": ".py",
   "mimetype": "text/x-python",
   "name": "python",
   "nbconvert_exporter": "python",
   "pygments_lexer": "ipython3",
   "version": "3.12.11"
  }
 },
 "nbformat": 4,
 "nbformat_minor": 5
}
