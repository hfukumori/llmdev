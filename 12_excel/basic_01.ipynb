{
 "cells": [
  {
   "cell_type": "code",
   "execution_count": 1,
   "id": "466b3c87",
   "metadata": {},
   "outputs": [],
   "source": [
    "# 必要なモジュールをインポート\n",
    "import os\n",
    "from dotenv import load_dotenv\n",
    "from openai import OpenAI\n",
    "import pandas as pd\n",
    "\n",
    "# 環境変数の取得\n",
    "load_dotenv()\n",
    "\n",
    "# OpenAI APIクライアントを生成\n",
    "client = OpenAI(api_key=os.environ['API_KEY'])\n",
    "\n",
    "# モデル名\n",
    "MODEL_NAME = \"gpt-4o-mini\""
   ]
  },
  {
   "cell_type": "code",
   "execution_count": 2,
   "id": "d31e6073",
   "metadata": {},
   "outputs": [
    {
     "data": {
      "text/html": [
       "<div>\n",
       "<style scoped>\n",
       "    .dataframe tbody tr th:only-of-type {\n",
       "        vertical-align: middle;\n",
       "    }\n",
       "\n",
       "    .dataframe tbody tr th {\n",
       "        vertical-align: top;\n",
       "    }\n",
       "\n",
       "    .dataframe thead th {\n",
       "        text-align: right;\n",
       "    }\n",
       "</style>\n",
       "<table border=\"1\" class=\"dataframe\">\n",
       "  <thead>\n",
       "    <tr style=\"text-align: right;\">\n",
       "      <th></th>\n",
       "      <th>カテゴリー</th>\n",
       "      <th>商品コード</th>\n",
       "      <th>商品名</th>\n",
       "      <th>売上日</th>\n",
       "      <th>単価</th>\n",
       "      <th>数量</th>\n",
       "      <th>原価</th>\n",
       "    </tr>\n",
       "  </thead>\n",
       "  <tbody>\n",
       "    <tr>\n",
       "      <th>0</th>\n",
       "      <td>食品</td>\n",
       "      <td>1001</td>\n",
       "      <td>りんご</td>\n",
       "      <td>2023-01-01</td>\n",
       "      <td>200</td>\n",
       "      <td>50</td>\n",
       "      <td>120</td>\n",
       "    </tr>\n",
       "    <tr>\n",
       "      <th>1</th>\n",
       "      <td>食品</td>\n",
       "      <td>1002</td>\n",
       "      <td>バナナ</td>\n",
       "      <td>2023-01-01</td>\n",
       "      <td>150</td>\n",
       "      <td>100</td>\n",
       "      <td>80</td>\n",
       "    </tr>\n",
       "    <tr>\n",
       "      <th>2</th>\n",
       "      <td>食品</td>\n",
       "      <td>1003</td>\n",
       "      <td>牛乳</td>\n",
       "      <td>2023-01-02</td>\n",
       "      <td>180</td>\n",
       "      <td>80</td>\n",
       "      <td>100</td>\n",
       "    </tr>\n",
       "    <tr>\n",
       "      <th>3</th>\n",
       "      <td>衣服</td>\n",
       "      <td>2001</td>\n",
       "      <td>Tシャツ</td>\n",
       "      <td>2023-01-02</td>\n",
       "      <td>1500</td>\n",
       "      <td>20</td>\n",
       "      <td>800</td>\n",
       "    </tr>\n",
       "    <tr>\n",
       "      <th>4</th>\n",
       "      <td>衣服</td>\n",
       "      <td>2002</td>\n",
       "      <td>ジーンズ</td>\n",
       "      <td>2023-01-03</td>\n",
       "      <td>5000</td>\n",
       "      <td>10</td>\n",
       "      <td>2500</td>\n",
       "    </tr>\n",
       "  </tbody>\n",
       "</table>\n",
       "</div>"
      ],
      "text/plain": [
       "  カテゴリー  商品コード   商品名        売上日    単価   数量    原価\n",
       "0    食品   1001   りんご 2023-01-01   200   50   120\n",
       "1    食品   1002   バナナ 2023-01-01   150  100    80\n",
       "2    食品   1003    牛乳 2023-01-02   180   80   100\n",
       "3    衣服   2001  Tシャツ 2023-01-02  1500   20   800\n",
       "4    衣服   2002  ジーンズ 2023-01-03  5000   10  2500"
      ]
     },
     "execution_count": 2,
     "metadata": {},
     "output_type": "execute_result"
    }
   ],
   "source": [
    "# 1. Excelファイルを読み込む\n",
    "df = pd.read_excel('サンプルデータ.xlsx', sheet_name='売上データ')\n",
    "# データフレームを表示して確認\n",
    "df.head()"
   ]
  },
  {
   "cell_type": "code",
   "execution_count": 3,
   "id": "417b5657",
   "metadata": {},
   "outputs": [
    {
     "name": "stdout",
     "output_type": "stream",
     "text": [
      "売上データ:\n",
      "    カテゴリー 商品コード      商品名         売上日    単価   数量    原価\n",
      "0      食品  1001      りんご  2023-01-01   200   50   120\n",
      "1      食品  1002      バナナ  2023-01-01   150  100    80\n",
      "2      食品  1003       牛乳  2023-01-02   180   80   100\n",
      "3      衣服  2001     Tシャツ  2023-01-02  1500   20   800\n",
      "4      衣服  2002     ジーンズ  2023-01-03  5000   10  2500\n",
      "..    ...   ...      ...         ...   ...  ...   ...\n",
      "235    衣服  2077   レインパンツ  2023-04-28  2000   18  1000\n",
      "236    食品  1085      ザクロ  2023-04-29   600   40   300\n",
      "237   日用品  3077    バスブラシ  2023-04-29   400   60   200\n",
      "238    衣服  2078  レインシューズ  2023-04-30  2500   15  1250\n",
      "239    食品  1086    ココナッツ  2023-04-30   300   80   150\n",
      "\n",
      "[240 rows x 7 columns]\n",
      "この売上データの傾向を分析してください。\n"
     ]
    }
   ],
   "source": [
    "# 2. データをLLM用にテキスト形式に変換\n",
    "# データフレーム全体を文字列に変換\n",
    "sales_data_text = df.astype(str)\n",
    "prompt_text = f\"売上データ:\\n{sales_data_text}\\nこの売上データの傾向を分析してください。\"\n",
    "# 表示して確認\n",
    "print(prompt_text)"
   ]
  },
  {
   "cell_type": "code",
   "execution_count": 6,
   "id": "e8ca6954",
   "metadata": {},
   "outputs": [
    {
     "name": "stdout",
     "output_type": "stream",
     "text": [
      "提供された売上データに基づいて、いくつかの傾向を分析します。以下に示すのは、主な分析対象のポイントです。\n",
      "\n",
      "### 1. カテゴリごとの売上分析\n",
      "- **食品、衣服、日用品**の3つのカテゴリがあります。それぞれのカテゴリごとの売上・利益量を計算することで、どのカテゴリが最も利益を生んでいるかを把握できます。\n",
      "- カテゴリごとの総売上、総数量、総原価を集計し、利益（売上 - 原価）を求めましょう。\n",
      "\n",
      "### 2. 売上推移の可視化\n",
      "- 売上日ごとの売上トレンドを把握するために、月ごとの売上推移を可視化することが重要です。これにより、季節性や特定の時期に売上が増減する傾向を把握できます。\n",
      "- グラフを使って、月ごとの売上額や数量を表示し、特定のイベントやキャンペーンの効果を評価します。\n",
      "\n",
      "### 3. 商品別のパフォーマンス\n",
      "- 各商品の売上、数量、利益率を評価することで、どの製品が最も効率的に利益を生んでいるかを把握できます。\n",
      "- 売上が高いにもかかわらず原価が高い商品（利益率が低い）や、逆に売上は低いが高利益の商品に注目することで、戦略的な改善点を見つけることができます。\n",
      "\n",
      "### 4. 客単価の分析\n",
      "- 客単価（売上合計/販売数量）を算出することで、購入傾向を把握します。これにより、単価を上げるための施策（バンニングやクロスセリングなど）を検討できます。\n",
      "\n",
      "### 5. 在庫管理と需要予測\n",
      "- 売上データを用いて、需要予測モデルを構築することで、在庫管理や仕入れの最適化が期待できます。特に人気商品やシーズン商品についての需要予測は重要です。\n",
      "\n",
      "### 6. 増加傾向と減少傾向\n",
      "- どのカテゴリまたは商品の売上が増加しているのか、または減少しているのかを特定して、改善点を見つけます。たとえば、特定の商品のトレンドが悪化している場合、マーケティング戦略や商品ラインナップの見直しが必要かもしれません。\n",
      "\n",
      "これらの分析を実施することで、企業の方針やマーケティング戦略の見直しが可能となり、成長を促進するための具体的なインサイトを得ることができるでしょう。データを用いながら具体的な処置を取るには、さらに具体的な数値分析や視覚化ツール（PythonのPandasやMatplotlib、Seabornなど）を活用することをお勧めします。\n"
     ]
    }
   ],
   "source": [
    "# 3. OpenAI APIの呼び出し\n",
    "\n",
    "# 役割を設定\n",
    "role = \"あなたはマーケティング分野に精通したデータサイエンティストです。企業の成長をサポートするために、効果的なインサイトを提供します。\"\n",
    "\n",
    "# APIへリクエスト\n",
    "response = client.chat.completions.create(\n",
    "    model=MODEL_NAME,\n",
    "    messages=[\n",
    "        {\"role\": \"system\", \"content\": role},\n",
    "        {\"role\": \"user\", \"content\": prompt_text},\n",
    "    ],\n",
    ")\n",
    "\n",
    "# LLMからの回答を表示\n",
    "print(response.choices[0].message.content.strip())"
   ]
  },
  {
   "cell_type": "code",
   "execution_count": 7,
   "id": "e2ba03a9",
   "metadata": {},
   "outputs": [
    {
     "name": "stdout",
     "output_type": "stream",
     "text": [
      "                                                   結果\n",
      "0   提供された売上データに基づいて、いくつかの傾向を分析します。以下に示すのは、主な分析対象のポ...\n",
      "1                                                    \n",
      "2                                  ### 1. カテゴリごとの売上分析\n",
      "3   - **食品、衣服、日用品**の3つのカテゴリがあります。それぞれのカテゴリごとの売上・利益...\n",
      "4        - カテゴリごとの総売上、総数量、総原価を集計し、利益（売上 - 原価）を求めましょう。\n",
      "5                                                    \n",
      "6                                     ### 2. 売上推移の可視化\n",
      "7   - 売上日ごとの売上トレンドを把握するために、月ごとの売上推移を可視化することが重要です。こ...\n",
      "8   - グラフを使って、月ごとの売上額や数量を表示し、特定のイベントやキャンペーンの効果を評価します。\n",
      "9                                                    \n",
      "10                                 ### 3. 商品別のパフォーマンス\n",
      "11  - 各商品の売上、数量、利益率を評価することで、どの製品が最も効率的に利益を生んでいるかを把...\n",
      "12  - 売上が高いにもかかわらず原価が高い商品（利益率が低い）や、逆に売上は低いが高利益の商品に...\n",
      "13                                                   \n",
      "14                                      ### 4. 客単価の分析\n",
      "15  - 客単価（売上合計/販売数量）を算出することで、購入傾向を把握します。これにより、単価を上...\n",
      "16                                                   \n",
      "17                                   ### 5. 在庫管理と需要予測\n",
      "18  - 売上データを用いて、需要予測モデルを構築することで、在庫管理や仕入れの最適化が期待できま...\n",
      "19                                                   \n",
      "20                                   ### 6. 増加傾向と減少傾向\n",
      "21  - どのカテゴリまたは商品の売上が増加しているのか、または減少しているのかを特定して、改善点...\n",
      "22                                                   \n",
      "23  これらの分析を実施することで、企業の方針やマーケティング戦略の見直しが可能となり、成長を促進...\n"
     ]
    }
   ],
   "source": [
    "# 4. 分析結果をデータフレームに変換\n",
    "result_list = response.choices[0].message.content.strip().split(\"\\n\")\n",
    "df_out = pd.DataFrame(result_list, columns=['結果'])\n",
    "print(df_out)"
   ]
  },
  {
   "cell_type": "code",
   "execution_count": 8,
   "id": "ccfa78f2",
   "metadata": {},
   "outputs": [],
   "source": [
    "# 5. 結果をExcelファイルに保存\n",
    "df_out.to_excel(\"売上データ分析結果.xlsx\", index=False)"
   ]
  }
 ],
 "metadata": {
  "kernelspec": {
   "display_name": ".venv",
   "language": "python",
   "name": "python3"
  },
  "language_info": {
   "codemirror_mode": {
    "name": "ipython",
    "version": 3
   },
   "file_extension": ".py",
   "mimetype": "text/x-python",
   "name": "python",
   "nbconvert_exporter": "python",
   "pygments_lexer": "ipython3",
   "version": "3.12.11"
  }
 },
 "nbformat": 4,
 "nbformat_minor": 5
}
