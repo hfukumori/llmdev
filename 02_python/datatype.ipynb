{
 "cells": [
  {
   "cell_type": "code",
   "execution_count": 1,
   "id": "6c44a831",
   "metadata": {},
   "outputs": [
    {
     "name": "stdout",
     "output_type": "stream",
     "text": [
      "私の名前はジョンです。私は30歳です。\n"
     ]
    }
   ],
   "source": [
    "name = \"ジョン\"\n",
    "age = 30\n",
    "print(f\"私の名前は{name}です。私は{age}歳です。\")"
   ]
  },
  {
   "cell_type": "code",
   "execution_count": 2,
   "id": "96a8b23f",
   "metadata": {},
   "outputs": [
    {
     "name": "stdout",
     "output_type": "stream",
     "text": [
      "5足す10は15です。\n"
     ]
    }
   ],
   "source": [
    "a = 5\n",
    "b = 10\n",
    "print(f\"{a}足す{b}は{a + b}です。\")"
   ]
  },
  {
   "cell_type": "code",
   "execution_count": 3,
   "id": "b3838dab",
   "metadata": {},
   "outputs": [
    {
     "name": "stdout",
     "output_type": "stream",
     "text": [
      "小数点以下の桁数: 3.14\n",
      "カンマ区切り: 1,234,567,890\n",
      "文字列の幅「Alice     」\n",
      "ゼロ埋め: 00042\n",
      "パーセント表示: 85.6%\n",
      "左揃え　「Alice     」\n",
      "右揃え　「     Alice」\n",
      "中央揃え「  Alice   」\n",
      "現在日時: 2025-08-06 14:08:24\n"
     ]
    }
   ],
   "source": [
    "# 小数点以下の桁数\n",
    "pi = 3.14159\n",
    "print(f\"小数点以下の桁数: {pi:.2f}\") # 2桁に指定\n",
    "\n",
    "# カンマ区切り\n",
    "large_number = 1234567890\n",
    "print(f\"カンマ区切り: {large_number:,}\")\n",
    "\n",
    "# 文字列の出力幅\n",
    "name = \"Alice\"\n",
    "print(f\"文字列の幅「{name:10}」\")  # 10文字分の幅で表示\n",
    "\n",
    "# ゼロ埋め\n",
    "num = 42\n",
    "print(f\"ゼロ埋め: {num:05}\")  # 5桁で表示し、足りない部分はゼロで埋める\n",
    "\n",
    "# パーセント表示\n",
    "accuracy = 0.856\n",
    "print(f\"パーセント表示: {accuracy:.1%}\")\n",
    "\n",
    "# 揃え\n",
    "name = \"Alice\"\n",
    "print(f\"左揃え　「{name:<10}」\")  # 左揃えで10文字幅\n",
    "print(f\"右揃え　「{name:>10}」\")  # 右揃えで10文字幅\n",
    "print(f\"中央揃え「{name:^10}」\")  # 中央揃えで10文字幅\n",
    "\n",
    "# 日時のフォーマット\n",
    "from datetime import datetime\n",
    "now = datetime.now()\n",
    "print(f\"現在日時: {now:%Y-%m-%d %H:%M:%S}\")"
   ]
  }
 ],
 "metadata": {
  "kernelspec": {
   "display_name": ".venv",
   "language": "python",
   "name": "python3"
  },
  "language_info": {
   "codemirror_mode": {
    "name": "ipython",
    "version": 3
   },
   "file_extension": ".py",
   "mimetype": "text/x-python",
   "name": "python",
   "nbconvert_exporter": "python",
   "pygments_lexer": "ipython3",
   "version": "3.12.11"
  }
 },
 "nbformat": 4,
 "nbformat_minor": 5
}
