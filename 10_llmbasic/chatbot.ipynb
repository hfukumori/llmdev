{
 "cells": [
  {
   "cell_type": "code",
   "execution_count": 1,
   "id": "acbfdc60",
   "metadata": {},
   "outputs": [],
   "source": [
    "# 必要なモジュールをインポート\n",
    "import os\n",
    "from dotenv import load_dotenv\n",
    "from openai import OpenAI\n",
    "from pprint import pprint\n",
    "\n",
    "# 環境変数の取得\n",
    "load_dotenv(\"../.env\")\n",
    "\n",
    "# OpenAI APIクライアントを生成\n",
    "client = OpenAI(api_key=os.environ['API_KEY'])\n",
    "\n",
    "# モデル名\n",
    "MODEL_NAME = \"gpt-4o-mini\""
   ]
  },
  {
   "cell_type": "code",
   "execution_count": 2,
   "id": "616ecd54",
   "metadata": {},
   "outputs": [
    {
     "data": {
      "text/plain": [
       "'質問:こんにちは！'"
      ]
     },
     "metadata": {},
     "output_type": "display_data"
    },
    {
     "name": "stdout",
     "output_type": "stream",
     "text": [
      "こんにちは！何かお手伝いできることがあれば教えてください。"
     ]
    },
    {
     "data": {
      "text/plain": [
       "'質問:初心者にオススメのプログラミング言語を3つ教えて'"
      ]
     },
     "metadata": {},
     "output_type": "display_data"
    },
    {
     "name": "stdout",
     "output_type": "stream",
     "text": [
      "初心者にオススメのプログラミング言語は以下の3つです：\n",
      "\n",
      "1. **Python**:\n",
      "   - シンプルで読みやすい文法が特徴です。\n",
      "   - データ分析、機械学習、ウェブ開発など多くの分野で使用されています。\n",
      "   - 大規模なコミュニティと豊富なライブラリがあるため、学習リソースも豊富です。\n",
      "\n",
      "2. **JavaScript**:\n",
      "   - ウェブ開発において非常に重要な言語で、フロントエンドとバックエンド両方で使用されます。\n",
      "   - インタラクティブなウェブサイトを作成するために必要なスキルです。\n",
      "   - 使用するフレームワーク（例：React、Node.js）も人気があり、学んでおくと役立ちます。\n",
      "\n",
      "3. **Ruby**:\n",
      "   - 読みやすく、書きやすいシンプルな文法が特徴です。\n",
      "   - 特にRuby on Railsというウェブアプリケーションフレームワークが人気で、迅速な開発が可能です。\n",
      "   - 初心者向けのリソースが多く、コミュニティも活発です。\n",
      "\n",
      "これらの言語は、それぞれ異なる分野で強みを持っており、学ぶことでプログラミングの基盤を築くのに役立ちます。どの言語を選んでも、学習の旅を楽しんでください！"
     ]
    },
    {
     "data": {
      "text/plain": [
       "'質問:質問:1つ目のプログラミング言語の名前は？'"
      ]
     },
     "metadata": {},
     "output_type": "display_data"
    },
    {
     "name": "stdout",
     "output_type": "stream",
     "text": [
      "1つ目のプログラミング言語は「Python」です。\n",
      "---ご利用ありがとうございました！---\n"
     ]
    }
   ],
   "source": [
    "# メッセージを格納するリスト\n",
    "messages=[]\n",
    "\n",
    "while(True):\n",
    "    # ユーザーからの質問を受付\n",
    "    message = input(\"メッセージを入力:\")\n",
    "    # 質問が入力されなければ終了\n",
    "    if message.strip()==\"\":\n",
    "        break\n",
    "    display(f\"質問:{message}\")\n",
    "\n",
    "    # メッセージにユーザーからの質問を追加\n",
    "    messages.append({\"role\": \"user\", \"content\": message.strip()})\n",
    "    # やりとりが8を超えたら古いメッセージから削除\n",
    "    if len(messages) > 8:\n",
    "        del_message = messages.pop(0)\n",
    "\n",
    "    # APIへリクエスト\n",
    "    stream = client.chat.completions.create(\n",
    "        model=MODEL_NAME,\n",
    "        messages=messages,\n",
    "        stream=True,\n",
    "    )\n",
    "\n",
    "    # 言語モデルからの回答を表示\n",
    "    response_message = \"\"\n",
    "    for chunk in stream:\n",
    "        if chunk.choices:\n",
    "            next = chunk.choices[0].delta.content\n",
    "            if next is not None:\n",
    "                response_message += next\n",
    "                print(next, end='', flush=True)\n",
    "\n",
    "    # メッセージに言語モデルからの回答を追加\n",
    "    messages.append({\"role\": \"assistant\", \"content\": response_message})\n",
    "\n",
    "print(\"\\n---ご利用ありがとうございました！---\")"
   ]
  }
 ],
 "metadata": {
  "kernelspec": {
   "display_name": ".venv",
   "language": "python",
   "name": "python3"
  },
  "language_info": {
   "codemirror_mode": {
    "name": "ipython",
    "version": 3
   },
   "file_extension": ".py",
   "mimetype": "text/x-python",
   "name": "python",
   "nbconvert_exporter": "python",
   "pygments_lexer": "ipython3",
   "version": "3.12.11"
  }
 },
 "nbformat": 4,
 "nbformat_minor": 5
}
