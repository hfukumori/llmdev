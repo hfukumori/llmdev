{
 "cells": [
  {
   "cell_type": "code",
   "execution_count": 2,
   "id": "618a6da9",
   "metadata": {},
   "outputs": [
    {
     "name": "stdout",
     "output_type": "stream",
     "text": [
      "{'_request_id': 'req_de8531d1370e41aa9d8bc058984060eb',\n",
      " 'choices': [Choice(finish_reason='stop', index=0, logprobs=None, message=ChatCompletionMessage(content='言語モデルを効果的に活用するためのポイントはいくつかあります。以下にいくつかの重要な点を挙げます。\\n\\n1. **明確な質問をする**: 言語モデルは入力された情報に基づいて応答を生成するため、具体的で明確な質問や指示を提供することが重要です。\\n\\n2. **コンテキストを提供する**: できるだけ多くの背景情報や文脈を与えることで、より適切で関連性のある応答が得られます。\\n\\n3. **試行錯誤をする**: 初めての質問やリクエストが期待通りの結果を生まないことがあります。異なる表現や詳細を試してみることで、より良い応答が得られることがあります。\\n\\n4. **分割して考える**: 複雑な問題やテーマは、複数の小さな質問に分けて尋ねると、より明確な情報を得やすくなります。\\n\\n5. **フィードバックを活用する**: 提供された応答に対して追加の情報や修正を依頼することで、より良い結果を引き出すことができます。\\n\\n6. **倫理的配慮**: 使用しているモデルが生成するコンテンツの信頼性や倫理性に注意を払い、場合によっては結果を慎重に評価することが求められます。\\n\\n7. **出典を確認する**: モデルから得た情報をそのまま信じるのではなく、重要なポイントについては必ず他の信頼できる情報源と照らし合わせることが大切です。\\n\\nこれらのポイントを踏まえて言語モデルを活用することで、より効果的で有益な結果を得ることができるでしょう。', refusal=None, role='assistant', audio=None, function_call=None, tool_calls=None, annotations=[]))],\n",
      " 'created': 1755132045,\n",
      " 'id': 'chatcmpl-C4GJJN4zfu4PGgTG4PFpucfrNruAb',\n",
      " 'model': 'gpt-4o-mini-2024-07-18',\n",
      " 'object': 'chat.completion',\n",
      " 'service_tier': 'default',\n",
      " 'system_fingerprint': 'fp_34a54ae93c',\n",
      " 'usage': CompletionUsage(completion_tokens=425, prompt_tokens=18, total_tokens=443, completion_tokens_details=CompletionTokensDetails(accepted_prediction_tokens=0, audio_tokens=0, reasoning_tokens=0, rejected_prediction_tokens=0), prompt_tokens_details=PromptTokensDetails(audio_tokens=0, cached_tokens=0))}\n"
     ]
    }
   ],
   "source": [
    "# 必要なモジュールをインポート\n",
    "import os\n",
    "from dotenv import load_dotenv\n",
    "from openai import OpenAI\n",
    "from pprint import pprint\n",
    "\n",
    "# 環境変数の取得\n",
    "load_dotenv(\"../.env\")\n",
    "\n",
    "# OpenAI APIクライアントを生成\n",
    "client = OpenAI(api_key=os.environ['API_KEY'])\n",
    "\n",
    "# モデル名\n",
    "MODEL_NAME = \"gpt-4o-mini\"\n",
    "\n",
    "# メッセージの設定\n",
    "message = \"言語モデルを使う上でのポイントは\"\n",
    "\n",
    "# APIへリクエスト\n",
    "response = client.chat.completions.create(\n",
    "    model=MODEL_NAME,\n",
    "    messages=[\n",
    "        {\"role\": \"user\", \"content\": message},\n",
    "    ]\n",
    ")\n",
    "\n",
    "# レスポンスの表示\n",
    "pprint(vars(response))"
   ]
  },
  {
   "cell_type": "code",
   "execution_count": 3,
   "id": "61864801",
   "metadata": {},
   "outputs": [
    {
     "name": "stdout",
     "output_type": "stream",
     "text": [
      "言語モデルを効果的に活用するためのポイントはいくつかあります。以下にいくつかの重要な点を挙げます。\n",
      "\n",
      "1. **明確な質問をする**: 言語モデルは入力された情報に基づいて応答を生成するため、具体的で明確な質問や指示を提供することが重要です。\n",
      "\n",
      "2. **コンテキストを提供する**: できるだけ多くの背景情報や文脈を与えることで、より適切で関連性のある応答が得られます。\n",
      "\n",
      "3. **試行錯誤をする**: 初めての質問やリクエストが期待通りの結果を生まないことがあります。異なる表現や詳細を試してみることで、より良い応答が得られることがあります。\n",
      "\n",
      "4. **分割して考える**: 複雑な問題やテーマは、複数の小さな質問に分けて尋ねると、より明確な情報を得やすくなります。\n",
      "\n",
      "5. **フィードバックを活用する**: 提供された応答に対して追加の情報や修正を依頼することで、より良い結果を引き出すことができます。\n",
      "\n",
      "6. **倫理的配慮**: 使用しているモデルが生成するコンテンツの信頼性や倫理性に注意を払い、場合によっては結果を慎重に評価することが求められます。\n",
      "\n",
      "7. **出典を確認する**: モデルから得た情報をそのまま信じるのではなく、重要なポイントについては必ず他の信頼できる情報源と照らし合わせることが大切です。\n",
      "\n",
      "これらのポイントを踏まえて言語モデルを活用することで、より効果的で有益な結果を得ることができるでしょう。\n"
     ]
    }
   ],
   "source": [
    "# 言語モデルからの回答を表示\n",
    "print(response.choices[0].message.content.strip())"
   ]
  },
  {
   "cell_type": "code",
   "execution_count": 6,
   "id": "e1f77b1c",
   "metadata": {},
   "outputs": [
    {
     "name": "stdout",
     "output_type": "stream",
     "text": [
      "新製品の発売に向けた効果的なマーケティング戦略を構築するためには、以下のステップを考慮することが重要です。\n",
      "\n",
      "### 1. 市場調査とターゲティング\n",
      "- **市場分析**: 競合製品や顧客ニーズを調査し、商品の特徴がどのように市場で競争力を持つかを把握します。\n",
      "- **ターゲットセグメント**: ペルソナを作成し、どの顧客層に向けてマーケティングを行うかを明確にします。\n",
      "\n",
      "### 2. 価値提案の明確化\n",
      "- **ユニークな販売提案（USP）**: 製品の特長や利点を明確にし、競合との差別化ポイントを強調します。\n",
      "\n",
      "### 3. プレマーケティングキャンペーン\n",
      "- **ティーザー広告**: 製品発売前に興味を引くコンテンツを投稿し、注目を集めます。\n",
      "- **ソーシャルメディアの活用**: InstagramやTwitterなどで製品に関する情報をシェアし、フォロワーの関心を高めます。\n",
      "\n",
      "### 4. プレローンチイベント\n",
      "- **記者発表会やインフルエンサーイベント**: 製品の初披露の場を設け、メディアやインフルエンサーを招待して広報を行います。\n",
      "- **試用イベント**: 特定のターゲット層に製品を体験してもらうことで、口コミを促進します。\n",
      "\n",
      "### 5. ローンチキャンペーン\n",
      "- **プロモーション戦略**: 限定オファー、割引、バンドル販売など、購入を促す特別キャンペーンを実施します。\n",
      "- **マルチチャネルのアプローチ**: オンラインストア、実店舗、SNSなど複数のチャネルを活用して商品を展開します。\n",
      "\n",
      "### 6. フィードバックと最適化\n",
      "- **顧客の意見収集**: 購入後のフォローアップやアンケートで顧客の反応を把握し、改善点を見出します。\n",
      "- **データ分析**: マーケティング活動の効果を測定し（例：販売データ、ウェブサイトのトラフィック）、必要に応じて戦略を調整します。\n",
      "\n",
      "### 7. 継続的なエンゲージメント\n",
      "- **顧客コミュニティの構築**: 製品を購入した顧客同士をつなげる場を設け、ブランドロイヤリティを高めます。\n",
      "- **定期的なコンテンツ更新**: ブログやSNSで製品に関連する情報を提供し続け、顧客の関心を維持します。\n",
      "\n",
      "### 8. 成果の評価と改善\n",
      "- **KPIの設定**: 成功の指標（例：売上、顧客の獲得数、サイト訪問数）を明確にし、目標達成度を評価します。\n",
      "- **戦略の調整**: 成果に基づいてマーケティング施策を見直し、必要な改善を行います。\n",
      "\n",
      "これらのステップを踏むことで、新製品の発売の成功を高めることができるでしょう。戦略の実行にあたっては、一貫性と柔軟性を持ち合わせることが重要です。\n"
     ]
    }
   ],
   "source": [
    "# 役割や前提の設定\n",
    "role = \"あなたはマーケティング分野に精通したビジネスコンサルタントです。企業の成長をサポートするために、効果的なマーケティング戦略を提供します。\"\n",
    "\n",
    "# メッセージの設定\n",
    "message = \"新製品の発売に向けた効果的なマーケティング戦略を教えてください。\"\n",
    "\n",
    "# APIへリクエスト\n",
    "response = client.chat.completions.create(\n",
    "    model=MODEL_NAME,\n",
    "    messages=[\n",
    "        {\"role\": \"system\", \"content\": role},\n",
    "        {\"role\": \"user\", \"content\": message},\n",
    "    ],\n",
    ")\n",
    "\n",
    "# 言語モデルからの回答を表示\n",
    "print(response.choices[0].message.content.strip())"
   ]
  },
  {
   "cell_type": "code",
   "execution_count": 10,
   "id": "df51a7ec",
   "metadata": {},
   "outputs": [
    {
     "name": "stdout",
     "output_type": "stream",
     "text": [
      "--------------------\n",
      "もちろんです！日本の魅力はいくつもありますが、いくつかご紹介します。\n",
      "\n",
      "1. **豊かな文化と歴史**: 日本は古代から続く長い歴史を持ち、多様な文化が融合しています。神社やお寺、お城などの歴史的建造物は、日本の伝統的な美学を感じさせてくれます。\n",
      "\n",
      "2. **四季折々の風景**:\n",
      "--------------------\n",
      "もちろんです！日本は多様な魅力を持つ国で、以下のような点が特に挙げられます。\n",
      "\n",
      "### 1. 自然の美\n",
      "- **四季の変化**: 日本には春の桜、夏の緑、秋の紅葉、冬の雪景色といった四季折々の自然があります。それぞれの季節に特有の美しさがあり、多くの人\n",
      "--------------------\n",
      "日本には多くの魅力があります。以下にいくつか紹介しますね。\n",
      "\n",
      "1. **文化と歴史**: 日本は数千年の歴史を持ち、伝統的な祭りや行事が今でも大切にされています。茶道、武道、歌舞伎など、日本独自の文化が息づいています。また、古都京都や奈良では、世界遺産に登録された寺院や神社\n"
     ]
    }
   ],
   "source": [
    "# 出力の多様性\n",
    "message = \"日本の魅力を紹介して！\"\n",
    "\n",
    "# APIへリクエスト\n",
    "response = client.chat.completions.create(\n",
    "    model=MODEL_NAME,\n",
    "    messages=[\n",
    "        {\"role\": \"user\", \"content\": message},\n",
    "    ],\n",
    "    presence_penalty=2.0,\n",
    "    n = 3, # 3回答を得る\n",
    "    max_completion_tokens = 100 # 出力トークン長を制限\n",
    ")\n",
    "\n",
    "# 結果を表示（複数回答を比較）\n",
    "for choice in response.choices:\n",
    "    print(\"-\" * 20)\n",
    "    print(choice.message.content.strip())"
   ]
  },
  {
   "cell_type": "code",
   "execution_count": 11,
   "id": "748404d8",
   "metadata": {},
   "outputs": [
    {
     "name": "stdout",
     "output_type": "stream",
     "text": [
      "tokens_count=2\n",
      "tokens=[95839, 3393]\n"
     ]
    }
   ],
   "source": [
    "import tiktoken\n",
    "from tiktoken.core import Encoding\n",
    "\n",
    "# OpenAI APIの特定のモデルに対応するトークナイザーを取得\n",
    "encoding: Encoding = tiktoken.encoding_for_model(MODEL_NAME) # o200k_base\n",
    "\n",
    "# テキストをトークンIDのリストに変換\n",
    "tokens = encoding.encode(\"こんにちは！\")\n",
    "tokens_count = len(tokens)\n",
    "\n",
    "# トークンの長さとトークンIDを表示\n",
    "print(f\"{tokens_count=}\")\n",
    "print(f\"{tokens=}\")"
   ]
  },
  {
   "cell_type": "code",
   "execution_count": 12,
   "id": "30dedefc",
   "metadata": {},
   "outputs": [
    {
     "name": "stdout",
     "output_type": "stream",
     "text": [
      "--------------------\n",
      "B:こんにちは！今日はどうしたの？\n",
      "--------------------\n",
      "B:こんにちは！Aさん、元気ですか？\n",
      "--------------------\n",
      "B:こんにちは！Aさん、元気ですか？\n"
     ]
    }
   ],
   "source": [
    "# トークンの選択度合い\n",
    "message = \"\"\"\n",
    "AさんとBさんで会話してください。\n",
    "A:あ、Bさんだ。\n",
    "B:\n",
    "\"\"\"\n",
    "\n",
    "# APIへリクエスト\n",
    "response = client.chat.completions.create(\n",
    "    model=MODEL_NAME,\n",
    "    messages=[\n",
    "        {\"role\": \"user\", \"content\": message},\n",
    "    ],\n",
    "    max_tokens=100,\n",
    "    n=3,\n",
    "    logit_bias = {95839:8, 3393:8}\n",
    ")\n",
    "\n",
    "# 結果を表示\n",
    "for choice in response.choices:\n",
    "    print(\"-\" * 20)\n",
    "    print(choice.message.content.strip())"
   ]
  },
  {
   "cell_type": "code",
   "execution_count": 13,
   "id": "acfb3531",
   "metadata": {},
   "outputs": [
    {
     "name": "stdout",
     "output_type": "stream",
     "text": [
      "言語モデルを使用する際のポイントは以下の通りです。\n",
      "\n",
      "1. **目的の明確化**: 言語モデルを使用する目的を明確にしましょう。例えば、テキスト生成、要約、翻訳、質問応答など、目的によってアプローチが異なります。\n",
      "\n",
      "2. **入力の工夫**: モデルに与える入力（プロンプト）は重要です。具体的で明確な指示を与えることで、より良いレスポンスが得られる可能性が高まります。\n",
      "\n",
      "3. **文脈の提供**: コンテキストを提供することで、モデルは関連性のある情報を生成しやすくなります。必要に応じて、前提情報や状況を示すことが有効です。\n",
      "\n",
      "4. **フィードバックの活用**: モデルから得られた出力を評価し、必要に応じて修正や補足を行いましょう。このプロセスを繰り返すことで、結果の質を改善できます。\n",
      "\n",
      "5. **限界の理解**: 言語モデルには限界があります。例えば、実際の最新情報を持っていない、特定のトピックに関する詳細には不正確な場合があることを理解することが重要です。\n",
      "\n",
      "6. **倫理的配慮**: モデルの出力が偏りや不適切な内容を含む可能性があるため、使用する際には倫理的な視点を持ち、必要に応じてチェックを行うことが求められます。\n",
      "\n",
      "7. **アプリケーションの具体化**: モデルを利用するアプリケーションやサービスにおいて、ユーザー体験やインターフェースを考慮することが重要です。\n",
      "\n",
      "8. **継続的な学習**: 言語モデルの性能や機能は進化しています。新しい技術やアプローチについて学び続けることが重要です。\n",
      "\n",
      "これらのポイントを押さえることで、言語モデルをより効果的に活用できるでしょう。"
     ]
    }
   ],
   "source": [
    "# メッセージの設定\n",
    "message = \"言語モデルを使う上でのポイントは\"\n",
    "\n",
    "# APIへリクエスト\n",
    "stream = client.chat.completions.create(\n",
    "    model=MODEL_NAME,\n",
    "    messages=[\n",
    "        {\"role\": \"user\", \"content\": message},\n",
    "    ],\n",
    "    stream=True,\n",
    ")\n",
    "\n",
    "for chunk in stream:\n",
    "    if chunk.choices:\n",
    "        if chunk.choices[0].delta.content is not None:\n",
    "            print(chunk.choices[0].delta.content, end=\"\")"
   ]
  }
 ],
 "metadata": {
  "kernelspec": {
   "display_name": ".venv",
   "language": "python",
   "name": "python3"
  },
  "language_info": {
   "codemirror_mode": {
    "name": "ipython",
    "version": 3
   },
   "file_extension": ".py",
   "mimetype": "text/x-python",
   "name": "python",
   "nbconvert_exporter": "python",
   "pygments_lexer": "ipython3",
   "version": "3.12.11"
  }
 },
 "nbformat": 4,
 "nbformat_minor": 5
}
