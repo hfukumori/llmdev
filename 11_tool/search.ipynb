{
 "cells": [
  {
   "cell_type": "code",
   "execution_count": 4,
   "id": "fa9a53a8",
   "metadata": {},
   "outputs": [],
   "source": [
    "# 必要なモジュールをインポート\n",
    "import os\n",
    "import json\n",
    "from dotenv import load_dotenv\n",
    "from openai import OpenAI\n",
    "from openai.types.chat import ChatCompletionToolParam\n",
    "from tavily import TavilyClient\n",
    "\n",
    "# 環境変数の取得\n",
    "load_dotenv(\"../.env\")\n",
    "\n",
    "# OpenAI APIクライアントを生成\n",
    "client = OpenAI(api_key=os.environ['API_KEY'])\n",
    "\n",
    "# tavily検索用APIキーの取得\n",
    "TAVILY_API_KEY = os.environ['TAVILY_API_KEY']\n",
    "\n",
    "# モデル名\n",
    "MODEL_NAME = \"gpt-4o-mini\""
   ]
  },
  {
   "cell_type": "code",
   "execution_count": 5,
   "id": "7f3a5251",
   "metadata": {},
   "outputs": [],
   "source": [
    "# 検索結果を返す関数の作成\n",
    "def get_search_result(question):\n",
    "    client = TavilyClient(api_key=TAVILY_API_KEY)\n",
    "    response = client.search(question)\n",
    "    return json.dumps({\"result\": response[\"results\"]})"
   ]
  },
  {
   "cell_type": "code",
   "execution_count": 6,
   "id": "ebff131d",
   "metadata": {},
   "outputs": [
    {
     "data": {
      "text/plain": [
       "{'result': [{'url': 'https://www.walkerplus.com/event_list/ar0313/sc309880d/',\n",
       "   'title': '東京駅(東京都)周辺のイベント - ウォーカープラス',\n",
       "   'content': '開催中 2025年3月20日(祝)～6月3日(火) 京橋駅(東京都), 宝町駅(東京都), 日本橋駅(東京都), 銀座一丁目駅(東京都), 東京駅(東京都) CREATIVE MUSEUM TOKYO(クリエイティブ ミュージアム トウキョウ) *   [美術展・博物展](https://www.walkerplus.com/event_list/eg0107/) 開催中 2025年3月20日(祝)～6月3日(火) 京橋駅(東京都), 宝町駅(東京都), 日本橋駅(東京都), 銀座一丁目駅(東京都), 東京駅(東京都) CREATIVE MUSEUM TOKYO(クリエイティブ ミュージアム トウキョウ) *   [グルメ・フードフェス](https://www.walkerplus.com/event_list/eg0117/) *   ![Image 6](https://www.walkerplus.com/asset/images/common/ico_charge.svg) 終了間近 2025年4月1日(火)～5月31日(土) 東京駅(東京都), 二重橋前駅(東京都), 京橋駅(東京都), 大手町駅(東京都), 有楽町駅(東京都) *   [グルメ・フードフェス](https://www.walkerplus.com/event_list/eg0117/) *   ![Image 8](https://www.walkerplus.com/asset/images/common/ico_parking.svg) 2025年4月5日(土)～6月15日(日) 東京駅(東京都), 二重橋前駅(東京都), 大手町駅(東京都), 日本橋駅(東京都), 京橋駅(東京都) *   [美術展・博物展](https://www.walkerplus.com/event_list/eg0107/) 2025年3月1日(土)～6月1日(日) 京橋駅(東京都), 宝町駅(東京都), 日本橋駅(東京都), 東京駅(東京都), 銀座一丁目駅(東京都) *   [美術展・博物展](https://www.walkerplus.com/event_list/eg0107/) 開催中 2025年4月16日(水)～11月5日(水) 日本橋駅(東京都), 京橋駅(東京都), 茅場町駅(東京都), 宝町駅(東京都), 東京駅(東京都) *   [グルメ・フードフェス](https://www.walkerplus.com/event_list/eg0117/) *   ![Image 12](https://www.walkerplus.com/asset/images/common/ico_parking.svg) 2025年3月1日(土)～6月1日(日) 京橋駅(東京都), 宝町駅(東京都), 日本橋駅(東京都), 東京駅(東京都), 銀座一丁目駅(東京都) *   [美術展・博物展](https://www.walkerplus.com/event_list/eg0107/) 開催中 2025年5月1日(木)～6月30日(月) 東京駅(東京都), 日本橋駅(東京都), 大手町駅(東京都), 京橋駅(東京都), 三越前駅(東京都) *   [グルメ・フードフェス](https://www.walkerplus.com/event_list/eg0117/) *   ![Image 15](https://www.walkerplus.com/asset/images/common/ico_parking.svg) 2025年5月29日(木)～9月7日(日) *   [美術展・博物展](https://www.walkerplus.com/event_list/eg0107/) *   [映画イベント](https://www.walkerplus.com/event_list/eg0110/) *   [ライブ・音楽イベント](https://www.walkerplus.com/event_list/eg109/) *   ![Image 18](https://www.walkerplus.com/asset/images/common/ico_parking.svg) CREATIVE MUSEUM TOKYO(クリエイティブ ミュージアム トウキョウ) YEBISU BREWERY TOKYO(ヱビス ブルワリー トウキョウ) {{/ is_event }} {{# is_spot }} *    {{ name }} {{ pref_name }}{{ city_name }}',\n",
       "   'score': 0.8131201,\n",
       "   'raw_content': None},\n",
       "  {'url': 'https://www.kokuchpro.com/feature/%E6%9D%B1%E4%BA%AC%E9%A7%85/',\n",
       "   'title': '東京駅イベント特集 - こくちーずプロ',\n",
       "   'content': '東京駅に関連するおすすめのイベントをご紹介します。 オンライン、東京都、大阪府、福岡県などで開催される人脈／交流会、ファイナンス／お金、IT／インターネットのジャンル',\n",
       "   'score': 0.80089486,\n",
       "   'raw_content': None},\n",
       "  {'url': 'https://www.enjoytokyo.jp/event/list/sta200101/its04/',\n",
       "   'title': '今日行ける！東京駅周辺のおすすめイベント',\n",
       "   'content': '東京都\\u3000千代田区 東京ビアホール＆ビアテラス14『TOKYO BEER WAVE』 東京ビアホール＆ビアテラス14『TOKYO BEER WAVE』 東京都\\u3000千代田区 2025/05/29(木) ～ 09/07(日) 東京都\\u3000文京区 伊勢丹 立川店：3/26〜4/15 国際フォーラム：7/14〜7/31 日本橋三越本店：8/6〜8/19 文京グリーンコート：9/1〜9/30 2025/06/13(金) ～ 06/26(木) ～ 2025/06/22(日) 2025/06/14(土) ～ 07/21(月・祝) ～ 2025/06/22(日) ～ 2025/06/22(日) 2025/05/27(火) ～ 09/23(火・祝) 東京都\\u3000港区 2025/05/12(月) ～ 09/07(日) 東京都\\u3000港区 2025/04/18(金) ～ 09/23(火・祝) 2025/01/18(土) ～ ※上映日・上映時間は公式ウェブサイトよりご確認ください。 東京都\\u3000武蔵野市 2025/06/21(土) ～ 08/17(日) 東京都\\u3000武蔵野市 2025/06/06(金) ～ 07/06(日) ※期間中の金曜日、土曜日、日曜日に開催 Lounge ＆ Dining G／東京マリオットホテル 東京都・品川駅 ／ テラスレストラン Cafe & Dining ZelkovA／ザ ストリングス 表参道 東京都・表参道駅 ／ テラスレストラン 東京都・渋谷駅 ／ テラスレストラン 東京都・吉祥寺駅 ／ テラスレストラン 東京都・渋谷駅 ／ テラスレストラン 東京都・六本木一丁目駅 ／ テラスレストラン 東京都・京橋駅 ／ テラスレストラン 東京都・渋谷駅 ／ テラスレストラン 東京都・銀座一丁目駅 ／ テラスレストラン 東京都・表参道駅 ／ テラスレストラン 347 CAFE ＆ LOUNGE 東京都・渋谷駅 ／ テラスレストラン 東京都・神保町駅 ／ テラスレストラン 東京都・渋谷駅 ／ テラスレストラン 神奈川県・みなとみらい駅 ／ テラスレストラン 神奈川県・横浜駅 ／ テラスレストラン 千葉県・船橋駅 ／ テラスレストラン',\n",
       "   'score': 0.7147281,\n",
       "   'raw_content': None},\n",
       "  {'url': 'https://www.enjoytokyo.jp/event/list/area1306/',\n",
       "   'title': \"東京駅周辺・丸の内でおすすめのイベント - Let's ENJOY TOKYO\",\n",
       "   'content': '～ 2025/06/01(日) 休館日：月曜日（5月5日は開館）、5月7日 ～ 2025/06/01(日) ～ 2025/06/01(日) 休館日：月曜日（5月5日は開館）、5月7日 ～ 2025/06/03(火) ～ 2025/06/03(火) ～ 2025/06/03(火) 2025/05/29(木) ～ 09/07(日) 伊勢丹 立川店：3/26〜4/15 国際フォーラム：7/14〜7/31 日本橋三越本店：8/6〜8/19 文京グリーンコート：9/1〜9/30 2025/05/21(水) ～ 06/30(月) 熊本が誇る旬の逸品“春スイカ”を首都圏で楽しめる「熊本 春スイカ フェスタ」が開催！ 2025/04/08(火) ～ 07/27(日) 休室日：月曜日、7月8日(火)～13日(日) 2025/05/19(月) ～ 06/08(日) ～ 2025/05/31(土) 2025/06/21(土) ～ 06/22(日) 2025/06/21(土) ～ 06/22(日) 2026/02/07(土) ～ 05/24(日) 休館日：2026/02/16(月)、03/16(月)、04/13(月)、05/11(月) 20世紀北欧デザインの巨匠 スティグ・リンドベリ展 2025/08/20(水) ～ 09/07(日) 20世紀北欧デザインの巨匠 スティグ・リンドベリ展 20世紀北欧デザインの巨匠 スティグ・リンドベリの作品約300点を展示！ 2025/07/26(土) ～ 08/15(金) 2025/06/06(金) ～ 07/06(日) 2025/06/14(土) ～ 07/21(月・祝) 2025/05/31(土) ～ 06/01(日) ～ 2025/05/31(土) 2025/05/13(火) ～ 07/06(日) 休館日は月曜日。開映日時は作品によって異なる。 天空茶会第二十四葉 特別セミナー世界の茶産地を訪ねて セミナー午前の部\\u3000ネパールとの出会い 天空茶会第二十四葉 特別セミナー世界の茶産地を訪ねて セミナー午前の部\\u3000ネパールとの出会い 2025/07/15(火) ～ 08/24(日) 休館日は月曜日。開映日時は作品によって異なる。 2025/07/18(金) ～ 10/05(日) ～ 2025/06/01(日) 2025/06/07(土) ～ 06/15(日) 2025/05/30(金) ～ 06/01(日) 2025/01/18(土) ～ ※上映日・上映時間は公式ウェブサイトよりご確認ください。 2025/05/16(金) ～ 06/29(日) 2025/05/24(土) ～ 06/16(月) Lounge ＆ Dining G／東京マリオットホテル Cafe & Dining ZelkovA／ザ ストリングス 表参道 347 CAFE ＆ LOUNGE',\n",
       "   'score': 0.70871735,\n",
       "   'raw_content': None},\n",
       "  {'url': 'https://iko-yo.net/events?tags%5B%5D=%E6%9D%B1%E4%BA%AC%E9%A7%85&term=6',\n",
       "   'title': '全国 東京駅の 子ども・親子おでかけ 明日のイベント情報 - いこーよ',\n",
       "   'content': '全国の東京駅に関する子どもとおでかけ 明日のイベント情報の一覧。全国の子ども向け・親子参加型の東京駅のイベント情報を探すなら子供とおでかけ情報いこーよで。',\n",
       "   'score': 0.5973971,\n",
       "   'raw_content': None}]}"
      ]
     },
     "execution_count": 6,
     "metadata": {},
     "output_type": "execute_result"
    }
   ],
   "source": [
    "# テスト用コード\n",
    "ret = get_search_result(\"東京駅のイベントを教えて\")\n",
    "json.loads(ret)"
   ]
  },
  {
   "cell_type": "code",
   "execution_count": 7,
   "id": "85c1b3b7",
   "metadata": {},
   "outputs": [],
   "source": [
    "# ツール定義\n",
    "def define_tools():\n",
    "    return [\n",
    "        ChatCompletionToolParam({\n",
    "            \"type\": \"function\",\n",
    "            \"function\": {\n",
    "                \"name\": \"get_search_result\",\n",
    "                \"description\": \"指定した質問文の検索結果を取得する\",\n",
    "                \"parameters\": {\n",
    "                    \"type\": \"object\",\n",
    "                    \"properties\": {\n",
    "                        \"question\": {\"type\": \"string\", \"description\": \"質問文\"},\n",
    "                    },\n",
    "                    \"required\": [\"question\"],\n",
    "                },\n",
    "            },\n",
    "        })\n",
    "    ]"
   ]
  },
  {
   "cell_type": "code",
   "execution_count": 8,
   "id": "ea165c05",
   "metadata": {},
   "outputs": [],
   "source": [
    "# 言語モデルへの質問を行う関数\n",
    "def ask_question(question, tools):\n",
    "    response = client.chat.completions.create(\n",
    "        model=MODEL_NAME,\n",
    "        messages=[{\"role\": \"user\", \"content\": question}],\n",
    "        tools=tools,\n",
    "        tool_choice=\"auto\",\n",
    "    )\n",
    "    return response"
   ]
  },
  {
   "cell_type": "code",
   "execution_count": 9,
   "id": "aa0805a3",
   "metadata": {},
   "outputs": [],
   "source": [
    "# ツール呼び出しが必要な場合の処理を行う関数\n",
    "def handle_tool_call(response, question):\n",
    "    # 関数の実行と結果取得\n",
    "    tool = response.choices[0].message.tool_calls[0]\n",
    "    function_name = tool.function.name\n",
    "    arguments = json.loads(tool.function.arguments)\n",
    "    function_response = globals()[function_name](**arguments)\n",
    "\n",
    "    # 関数の実行結果をmessagesに加えて再度言語モデルを呼出\n",
    "    response_after_tool_call = client.chat.completions.create(\n",
    "        model=MODEL_NAME,\n",
    "        messages=[\n",
    "            {\"role\": \"user\", \"content\": question},\n",
    "            response.choices[0].message,\n",
    "            {\n",
    "                \"tool_call_id\": tool.id,\n",
    "                \"role\": \"tool\",\n",
    "                \"content\": function_response,\n",
    "            },\n",
    "        ],\n",
    "    )\n",
    "    return response_after_tool_call"
   ]
  },
  {
   "cell_type": "code",
   "execution_count": 10,
   "id": "4055985d",
   "metadata": {},
   "outputs": [],
   "source": [
    "# ユーザーからの質問を処理する関数\n",
    "def process_response(question, tools):\n",
    "    response = ask_question(question, tools)\n",
    "\n",
    "    if response.choices[0].finish_reason == 'tool_calls':\n",
    "        # ツール呼出の場合\n",
    "        final_response = handle_tool_call(response, question)\n",
    "        return final_response.choices[0].message.content.strip()\n",
    "    else:\n",
    "        # 言語モデルが直接回答する場合\n",
    "        return response.choices[0].message.content.strip()"
   ]
  },
  {
   "cell_type": "code",
   "execution_count": 11,
   "id": "7d31c923",
   "metadata": {},
   "outputs": [
    {
     "name": "stdout",
     "output_type": "stream",
     "text": [
      "東京都と沖縄県の面積を比較すると、沖縄県の方が広いです。\n",
      "\n",
      "具体的には、東京都の面積は約2,194.05 km²であるのに対し、沖縄県の面積は約2,281 km²です。従って、面積では沖縄県が東京都よりも約87 km²広いことになります。\n"
     ]
    }
   ],
   "source": [
    "tools = define_tools()\n",
    "\n",
    "# 言語モデルが直接回答できる質問\n",
    "question = \"東京都と沖縄県はどちらが広いですか？\"\n",
    "response_message = process_response(question, tools)\n",
    "print(response_message)"
   ]
  },
  {
   "cell_type": "code",
   "execution_count": 12,
   "id": "afb59ab4",
   "metadata": {},
   "outputs": [
    {
     "name": "stdout",
     "output_type": "stream",
     "text": [
      "最近1ヶ月以内に開催される東京駅のイベントについて、いくつかの情報をお伝えします。\n",
      "\n",
      "1. **東京駅イベント カレンダー**  \n",
      "   - **開催日**: 2025年8月5日〜2025年8月31日  \n",
      "   - **詳細**: 東京駅のイベントに関する情報が掲載されています。公式サイトなどで確認できます。  \n",
      "   - [詳しくはこちら](https://marunouchi.jp-kitte.jp/event/calendar.jsp)\n",
      "\n",
      "2. **東京都市 駅ピポコレンド特集**  \n",
      "   - **内容**: 東京駅周辺の飲食店やイベント情報が掲載されています。特定のイベントは月に1回開催されています。  \n",
      "   - [詳しくはこちら](https://www.jalan.net/kankou/spt_guide000000204974/event/)\n",
      "\n",
      "3. **新着情報 (GranSta)**  \n",
      "   - **内容**: GranSta 東京駅での新しいショップやレストランのイベント情報。  \n",
      "   - [詳しくはこちら](https://www.gransta.jp/news/)\n",
      "\n",
      "4. **東京駅POPUP**  \n",
      "   - **開催日**: 6月5日〜6月24日  \n",
      "   - **詳細**: 東京駅にてPOPUPイベントが開催されている。KAWANOWAの「幾の躍」での開催情報。  \n",
      "   - [詳しくはこちら](https://www.kawanowa.com/popup_tokyostation_june/)\n",
      "\n",
      "5. **東京駅の団体観光イベント**  \n",
      "   - **内容**: 大俵祭（定期開催）や多様な特別イベントが行われる。詳細なスケジュールはサイトをチェック。  \n",
      "   - [詳しくはこちら](https://www.jalan.net/kankou/spt_guide000000204974/event/)\n",
      "\n",
      "これらの情報を参考にして、興味のあるイベントに参加してみてください。詳しい内容については各リンクをご参照くださいますようお願いいたします。\n"
     ]
    }
   ],
   "source": [
    "# ツール呼出が必要な質問\n",
    "question = \"東京駅のイベントについて、最近1ヶ月以内の検索結果を教えてください\"\n",
    "response_message = process_response(question, tools)\n",
    "print(response_message)"
   ]
  },
  {
   "cell_type": "code",
   "execution_count": 13,
   "id": "63591ef5",
   "metadata": {},
   "outputs": [
    {
     "data": {
      "text/plain": [
       "'質問:日本で2番目に高い山を教えてください。'"
      ]
     },
     "metadata": {},
     "output_type": "display_data"
    },
    {
     "name": "stdout",
     "output_type": "stream",
     "text": [
      "日本で2番目に高い山は「北岳（きただけ）で、高さは3193メートルです。場所は山梨県にあり、最も高い山である富士山（3776メートル）の次に位置しています。北岳は、ハイキングや登山の人気スポットとなっています。\n"
     ]
    },
    {
     "data": {
      "text/plain": [
       "'質問:そこへ行く方法を教えてください。'"
      ]
     },
     "metadata": {},
     "output_type": "display_data"
    },
    {
     "name": "stdout",
     "output_type": "stream",
     "text": [
      "「そこへ行く方法」を知りたい場合、以下のリソースが役立ちます。\n",
      "\n",
      "1. [Native Phrases Blog](https://native-phrase-blog.com/4628/) - そこの行き方に関する情報や，バスや電車などの交通手段について紹介しています。\n",
      "   \n",
      "2. [DMM英会話](https://eikaiwa.dmm.com/uknow/questions/129990/) - 行き方に関する英語表現を学びたい方におすすめのページです。\n",
      "   \n",
      "3. [Reverso Context](https://context.reverso.net/%E7%BF%BB%E8%A8%B3/%E6%97%A5%E6%9C%AC%E8%AA%9E-%E8%8B%B1%E8%AA%9E/%E3%81%9D%E3%81%93%E3%81%B8%E8%A1%8C%E3%81%8F) - 行き方に関する例文や翻訳が見つかります。\n",
      "   \n",
      "これらのリンクを参考に、具体的な行き方や使うべき交通機関についての情報を得ることができます。どのような手段で行くかは目的地や出発地点によりますので、具体的な場所を教えていただければ、さらに詳しいアドバイスができるかもしれません。\n",
      "\n",
      "---ご利用ありがとうございました！---\n"
     ]
    }
   ],
   "source": [
    "# チャットボットへの組み込み\n",
    "tools = define_tools()\n",
    "\n",
    "messages=[]\n",
    "\n",
    "while(True):\n",
    "    # ユーザーからの質問を受付\n",
    "    question = input(\"メッセージを入力:\")\n",
    "    # 質問が入力されなければ終了\n",
    "    if question.strip()==\"\":\n",
    "        break\n",
    "    display(f\"質問:{question}\")\n",
    "\n",
    "    # メッセージにユーザーからの質問を追加\n",
    "    messages.append({\"role\": \"user\", \"content\": question.strip()})\n",
    "    # やりとりが8を超えたら古いメッセージから削除\n",
    "    if len(messages) > 8:\n",
    "        del_message = messages.pop(0)\n",
    "\n",
    "    # 言語モデルに質問\n",
    "    response_message = process_response(question, tools)\n",
    "\n",
    "    # メッセージに言語モデルからの回答を追加\n",
    "    print(response_message, flush=True)\n",
    "    messages.append({\"role\": \"assistant\", \"content\": response_message})\n",
    "\n",
    "print(\"\\n---ご利用ありがとうございました！---\")"
   ]
  }
 ],
 "metadata": {
  "kernelspec": {
   "display_name": ".venv",
   "language": "python",
   "name": "python3"
  },
  "language_info": {
   "codemirror_mode": {
    "name": "ipython",
    "version": 3
   },
   "file_extension": ".py",
   "mimetype": "text/x-python",
   "name": "python",
   "nbconvert_exporter": "python",
   "pygments_lexer": "ipython3",
   "version": "3.12.11"
  }
 },
 "nbformat": 4,
 "nbformat_minor": 5
}
