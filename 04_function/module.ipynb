{
 "cells": [
  {
   "cell_type": "code",
   "execution_count": 1,
   "id": "e75c28f4",
   "metadata": {},
   "outputs": [
    {
     "name": "stdout",
     "output_type": "stream",
     "text": [
      "<!DOCTYPE html><html  lang=\"ja\" data-theme=\"techacademy\" data-capo=\"\"><head><meta charset=\"utf-8\">\n",
      "<meta name=\"viewport\" content=\"width=device-width, initial-scale=1\">\n",
      "<title>プログラミングスクール | 受講者数No.1のテックアカデミー</title>\n",
      "<link rel=\"preconnect\" href=\"https://fonts.googleapis.com\">\n",
      "<link rel=\"preconnect\" href=\"https://fonts.gstatic.com\" crossorigin>\n",
      "<script src=\"https://www.googletagmanager.com/gtag/js?id=AW-1006744060\" async data-hid=\"92ebc66\"></script>\n",
      "<script src=\"//static.criteo.net/js/ld/ld.js\" asy\n"
     ]
    }
   ],
   "source": [
    "import urllib.request\n",
    "\n",
    "# URLを指定してデータを取得\n",
    "url = \"https://techacademy.jp\"\n",
    "response = urllib.request.urlopen(url)\n",
    "\n",
    "# HTMLデータを読み込み、UTF-8文字列にデコード\n",
    "html = response.read().decode(\"utf-8\")\n",
    "print(html[:500])  # 取得したHTMLの先頭500文字を表示"
   ]
  },
  {
   "cell_type": "code",
   "execution_count": 2,
   "id": "4215c2bc",
   "metadata": {},
   "outputs": [
    {
     "name": "stdout",
     "output_type": "stream",
     "text": [
      "5 + 3 = 8\n",
      "10 - 4 = 6\n"
     ]
    }
   ],
   "source": [
    "import math_operations  # 自作モジュールをインポート\n",
    "\n",
    "# モジュール内の関数を使う\n",
    "result1 = math_operations.add(5, 3)\n",
    "result2 = math_operations.subtract(10, 4)\n",
    "\n",
    "print(\"5 + 3 =\", result1)       # 出力: 5 + 3 = 8\n",
    "print(\"10 - 4 =\", result2)   "
   ]
  }
 ],
 "metadata": {
  "kernelspec": {
   "display_name": ".venv",
   "language": "python",
   "name": "python3"
  },
  "language_info": {
   "codemirror_mode": {
    "name": "ipython",
    "version": 3
   },
   "file_extension": ".py",
   "mimetype": "text/x-python",
   "name": "python",
   "nbconvert_exporter": "python",
   "pygments_lexer": "ipython3",
   "version": "3.12.11"
  }
 },
 "nbformat": 4,
 "nbformat_minor": 5
}
